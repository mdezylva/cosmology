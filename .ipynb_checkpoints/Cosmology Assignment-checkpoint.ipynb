{
 "cells": [
  {
   "cell_type": "markdown",
   "metadata": {},
   "source": [
    "# <center > PHYC90009 Assignment </center>\n",
    "## <center> How much of the sky is covered by galaxies? </center> "
   ]
  },
  {
   "cell_type": "markdown",
   "metadata": {},
   "source": [
    "## Packages "
   ]
  },
  {
   "cell_type": "code",
   "execution_count": 1,
   "metadata": {},
   "outputs": [],
   "source": [
    "import numpy as np\n",
    "import scipy as sp\n",
    "from scipy.integrate import quad, dblquad, simps \n",
    "import matplotlib.pyplot as plt\n",
    "%matplotlib inline"
   ]
  },
  {
   "cell_type": "markdown",
   "metadata": {},
   "source": [
    "## Constants \n"
   ]
  },
  {
   "cell_type": "code",
   "execution_count": 2,
   "metadata": {},
   "outputs": [],
   "source": [
    "h_0 = 67.66 #Hubble Const from Planck km s-1 Mpc-1\n",
    "c = 299792458 #Speed of Light m s-1\n",
    "h = 0.7 #Reduced Hubble Const\n",
    "om_k = 0 #Omega for Curvature\n",
    "om_m = 0.3 #Omega Matter\n",
    "om_lam = 0.7 #Omega Dark Energy\n",
    "om_r = 0.0 #Omega Radiation\n",
    "n = 1 \n",
    "sig_8 = 0.9\n",
    "G = 6.67e-11 # m3 kg-1 s-2\n",
    "d_h0 = c*10**(-3)/h_0 # Hubble dist at current time \n"
   ]
  },
  {
   "cell_type": "markdown",
   "metadata": {},
   "source": [
    "### 1) a) Compute and Plot the Angular Diamter Distance as a Function of Redshift\n",
    "Angular Diamter Distance $d_A$ is given \n",
    "$$ d_A = \\frac{r_{em}}{1 + z}$$\n",
    "Where $r_{em}$ is the comoving distance, given by \n",
    "$$ r_{em} = \\int_0^z d_h dz' $$ \n",
    "z is redshift,\n",
    "d_h is the Hubble Distance, given by \n",
    "$$ d_h = \\frac{c}{H(z)} $$\n",
    "$$ \\Rightarrow d_A = \\frac{c}{1+z} \\int_0^z \\frac{dz'}{H(z)} $$"
   ]
  },
  {
   "cell_type": "code",
   "execution_count": 3,
   "metadata": {},
   "outputs": [],
   "source": [
    "z = np.arange(0,10,0.1)\n",
    "def d_h(z):\n",
    "    return(c/(h_0*np.sqrt(om_m*(1+z)**3 + om_lam)))"
   ]
  },
  {
   "cell_type": "code",
   "execution_count": 4,
   "metadata": {
    "scrolled": false
   },
   "outputs": [
    {
     "data": {
      "text/plain": [
       "<matplotlib.legend.Legend at 0x7f435ed91908>"
      ]
     },
     "execution_count": 4,
     "metadata": {},
     "output_type": "execute_result"
    },
    {
     "data": {
      "image/png": "[encoded data removed]",
      "text/plain": [
       "<Figure size 576x432 with 1 Axes>"
      ]
     },
     "metadata": {},
     "output_type": "display_data"
    }
   ],
   "source": [
    "r_em = [(c/(1+zed)*quad(d_h,0,zed)[0]) for zed in z]\n",
    "fig, ax = plt.subplots(figsize=(8,6))\n",
    "ax.plot(z,r_em,'b-',label='Angular Diamter Distance')\n",
    "ax.set_xlabel('Redshift z')\n",
    "ax.legend(loc = 'upper right')"
   ]
  },
  {
   "cell_type": "markdown",
   "metadata": {},
   "source": [
    "### 1) b) Compute and Plot the Growth Function as a Function of Redshift\n",
    "The growth function as a function of redshift is given by \n",
    "$$ D(t) \\propto \\frac{(\\Omega_\\Lambda a^3 + \\Omega_k a + \\Omega_m)^{1/2}}{a^{3/2}} \\int_0^a \\frac{a'^{3/2} da'}{(\\Omega_\\Lambda a'^3 + \\Omega_k a' + \\Omega_m)^{3/2}} $$ \n",
    "where $a = \\frac{1}{1+z}$"
   ]
  },
  {
   "cell_type": "code",
   "execution_count": 37,
   "metadata": {
    "scrolled": false
   },
   "outputs": [
    {
     "name": "stdout",
     "output_type": "stream",
     "text": [
      "[1.         0.61180575 0.4214457  0.3188404  0.25588186 0.21353662\n",
      " 0.18316366 0.16033336 0.1425536  0.12831843 0.11666541 0.10695111\n",
      " 0.09872927 0.09168071 0.08557113 0.08022471 0.07550691 0.07131305\n",
      " 0.06756047 0.06418301 0.06112712 0.05834896 0.05581233 0.05348704\n",
      " 0.05134774 0.04937297 0.04754447 0.04584655 0.04426572 0.04279027\n",
      " 0.04141    0.04011599 0.0389004  0.03775631 0.03667759 0.0356588\n",
      " 0.03469507 0.03378206 0.03291588 0.032093   0.03131025 0.03056479\n",
      " 0.02985399 0.0291755  0.02852716 0.02790702 0.02731326 0.02674424\n",
      " 0.02619844 0.02567448 0.02517106 0.02468701 0.02422122 0.02377268\n",
      " 0.02334046 0.02292366 0.0225215  0.0221332  0.02175806 0.02139543\n",
      " 0.02104469 0.02070526 0.02037661 0.02005822 0.01974964 0.0194504\n",
      " 0.0191601  0.01887833 0.01860473 0.01833895 0.01808066 0.01782954\n",
      " 0.0175853  0.01734766 0.01711636 0.01689115 0.01667178 0.01645804\n",
      " 0.01624971 0.01604659 0.01584849 0.01565521 0.01546659 0.01528247\n",
      " 0.01510268 0.01492706 0.01475549 0.01458781 0.01442391 0.01426364\n",
      " 0.0141069  0.01395356 0.01380352 0.01365668 0.01351292 0.01337216\n",
      " 0.01323431 0.01309926 0.01296695 0.01283728]\n"
     ]
    },
    {
     "data": {
      "text/plain": [
       "<matplotlib.legend.Legend at 0x7f435e81f358>"
      ]
     },
     "execution_count": 37,
     "metadata": {},
     "output_type": "execute_result"
    },
    {
     "data": {
      "image/png": "[encoded data removed]",
      "text/plain": [
       "<Figure size 576x432 with 1 Axes>"
      ]
     },
     "metadata": {},
     "output_type": "display_data"
    }
   ],
   "source": [
    "z = np.arange(0,100,1)\n",
    "a = 1/(1+z)\n",
    "# Need to Change Variables to get right results\n",
    "def temp_func(a):\n",
    "    return(float((a**(3./2.))/((om_lam * a**3 + om_k * a + om_m )**(3./2.))))\n",
    "\n",
    "D_t = [np.sqrt(om_lam * ay**3 + om_k * ay + om_m )/(ay**(3/2))*quad(temp_func,0,ay)[0] for ay in a]\n",
    "\n",
    "# Normalise D_t using z=1\n",
    "D_t_norm = np.sqrt(om_lam * 1**3 + om_k * 1 + om_m )/(1**(3/2))*quad(temp_func,0,1)[0] \n",
    "\n",
    "D_t = D_t/D_t_norm\n",
    "\n",
    "fig, ax = plt.subplots(figsize= (8,6))\n",
    "ax.plot(z,D_t,'g-',label='Growth Function')\n",
    "ax.set_xlabel('Redshift z')\n",
    "ax.legend(loc = 'upper right')"
   ]
  },
  {
   "cell_type": "markdown",
   "metadata": {},
   "source": [
    "## 1) c) Compute and plot the variance on a mass scale $M$ at redshift $z$\n",
    "The variance of the Mass Scale is given by the expression\n",
    "$$\\sigma^2 (m) = \\sigma^2 (R) = \\frac{1}{2 \\pi^2} \\int_0^\\infty dk k^2 P(k) \\Bigg[ \\frac{3 j_1(kR) }{kR} \\Bigg]^2$$\n",
    "Where\n",
    "$$ j_1 = \\frac{\\sin(x) - x \\cos(x) }{x^2} $$\n",
    "$$ P(k) \\propto k^n T^2(k) $$ \n",
    "$$ T(k) = \\frac{\\ln(1+2.34q)}{2.34 q} [1+3.89q+(16.1q)^2 + (5.46q)^3 + (6.71q)^4]^{-1/4} $$\n",
    "$$ q = \\frac{k}{\\Omega_m^z h^2} $$\n",
    "$$ \\Omega_m^z = \\frac{\\Omega_m (1+z)^3}{\\Omega_m (1+z)^3 + \\Omega_{\\Lambda} + \\Omega_k(1+z)^2}$$\n",
    "\n",
    "Therefore, the sub-factors must be calculated first, and passed through the functions in a bootstrap fashion. We also have to note that \n",
    "$$ M = \\frac{4 \\pi R^3 \\rho_M}{3} \\Rightarrow R = \\Big(\\frac{3 M}{4 \\pi \\rho_M}\\Big)^{1/3}$$\n",
    "All of these terms have to be calculated at $z=0$, and we evolve them to higher redshifts using the growth factor $D$"
   ]
  },
  {
   "cell_type": "code",
   "execution_count": 38,
   "metadata": {
    "scrolled": false
   },
   "outputs": [],
   "source": [
    "# Density in Solar Masses per megaparsec^3\n",
    "rho_crit = (3*(h_0*3.241e-20)**2)/(8*np.pi*G*6.769e-38)\n",
    "rho_m = om_m*rho_crit\n",
    "#Generate Mass Space\n",
    "m = np.logspace(2,15,num=1000)\n",
    "#Convert to Radius (Units = Mpc)\n",
    "r = ((3*m)/(4*np.pi*rho_m))**(1/3)\n",
    "#Respecify Omega Matter \n",
    "#om_m_z = (om_m*(1)**3)/(om_m*(1)**3 + om_lam + om_k*(1)**2)\n",
    "\n",
    "#print(r)"
   ]
  },
  {
   "cell_type": "code",
   "execution_count": 39,
   "metadata": {},
   "outputs": [
    {
     "name": "stdout",
     "output_type": "stream",
     "text": [
      "0.000312167951177451\n",
      "2883.063417001438\n"
     ]
    }
   ],
   "source": [
    "def j_1(x):\n",
    "    return((np.sin(x) - x* np.cos(x))/(x**2))\n",
    "\n",
    "def q(k):\n",
    "    return(k/(om_m*h**2))\n",
    "\n",
    "def t_k(k):\n",
    "    first = (np.log(1+2.34*q(k))/(2.34*q(k)))\n",
    "    second = (1+3.89*q(k) + (16.1*q(k))**2 + (5.46*q(k))**3 + (6.71*q(k))**4)**(-1/4)\n",
    "    return( first*second )\n",
    "\n",
    "def P_k(k):\n",
    "    return(((k * (t_k(k))**2)))\n",
    "\n",
    "def integrand(k,r):\n",
    "    return(k**2 * P_k(k) * ((3 * j_1(k*r))/(k*r))**2)\n",
    "\n",
    "sigma_8_int = (1/(2*np.pi**2)*quad(integrand,0,np.inf,args=(8/h))[0])**(1/2)\n",
    "print(sigma_8_int)\n",
    "const_s8 = 0.9/sigma_8_int\n",
    "print(const_s8)\n",
    "\n",
    "#Perform Integral over k, passing radii to function as you go\n",
    "var_z_0 = [(const_s8*(1/(2*np.pi**2)*quad(integrand,0,np.inf,args=(ar))[0])**(1/2)) for ar in r]\n",
    "\n",
    "#Scale at higher redshifts using Growth Factor\n",
    "var_z_5 = [zed*D_t[5] for zed in var_z_0]\n",
    "var_z_10 = [zed*D_t[10] for zed in var_z_0]\n",
    "var_z_20 = [zed*D_t[20] for zed in var_z_0]\n",
    "var_z_30 = [zed*D_t[30] for zed in var_z_0]\n",
    "\n"
   ]
  },
  {
   "cell_type": "code",
   "execution_count": 40,
   "metadata": {},
   "outputs": [
    {
     "data": {
      "image/png": "[encoded data removed]",
      "text/plain": [
       "<Figure size 576x432 with 1 Axes>"
      ]
     },
     "metadata": {},
     "output_type": "display_data"
    }
   ],
   "source": [
    "fig, ax = plt.subplots(figsize= (8,6))\n",
    "plt.ylim(0.1,100)\n",
    "ax.semilogx(m,var_z_0,'k-',label='z = 0')\n",
    "ax.semilogx(m,var_z_5,'b-',label='z = 5')\n",
    "ax.semilogx(m,var_z_10,'g-',label='z = 10')\n",
    "ax.semilogx(m,var_z_20,'y-',label='z = 20')\n",
    "ax.semilogx(m,var_z_30,'r-',label='z = 30')\n",
    "#ax.plot(m,z_5,'r-',label='z = 5')\n",
    "#ax.plot(k[:500],integrand(k,10,1)[:500],'b-')\n",
    "#ax.set_xscale(\"log\")\n",
    "ax.set_yscale(\"log\")\n",
    "ax.legend(loc = 'upper right')\n",
    "ax.margins(x=0)\n"
   ]
  },
  {
   "cell_type": "markdown",
   "metadata": {},
   "source": [
    "## 1) d) the Press - Schechter mass function of DM halos (at a range of redshifts)\n",
    "The Press-Schechter Mass Function is given by \n",
    "$$\\frac{d n_h (m,z)}{dm} = - \\sqrt{\\frac{2}{\\pi}} \\frac{\\rho_m}{m} \\frac{d[\\log{\\sigma(m)}]}{dm} \\nu_c \\exp\\Big(-\\frac{\\nu_c^2}{2} \\Big)$$\n",
    "Where \n",
    "$$\\nu_c = \\delta_c (z) \\sigma(m) $$\n",
    "Again, $\\sigma(m)$, and $\\rho_m$ are calculated at $z=0$\n",
    "\n",
    "We know that $\\delta_c(z=0) = 1.69$, and we can evolve the critical density backwards using the growth factor\n",
    "$$ \\delta_c(z) = \\frac{1.69}{D(z)}$$"
   ]
  },
  {
   "cell_type": "code",
   "execution_count": 42,
   "metadata": {},
   "outputs": [],
   "source": [
    "def d_c(z): \n",
    "    return(1.69/D_t(z))"
   ]
  },
  {
   "cell_type": "code",
   "execution_count": null,
   "metadata": {},
   "outputs": [],
   "source": []
  },
  {
   "cell_type": "code",
   "execution_count": null,
   "metadata": {},
   "outputs": [],
   "source": []
  },
  {
   "cell_type": "code",
   "execution_count": null,
   "metadata": {},
   "outputs": [],
   "source": []
  },
  {
   "cell_type": "code",
   "execution_count": null,
   "metadata": {},
   "outputs": [],
   "source": []
  },
  {
   "cell_type": "code",
   "execution_count": null,
   "metadata": {},
   "outputs": [],
   "source": []
  },
  {
   "cell_type": "code",
   "execution_count": null,
   "metadata": {},
   "outputs": [],
   "source": []
  },
  {
   "cell_type": "code",
   "execution_count": null,
   "metadata": {},
   "outputs": [],
   "source": []
  },
  {
   "cell_type": "code",
   "execution_count": null,
   "metadata": {},
   "outputs": [],
   "source": []
  },
  {
   "cell_type": "code",
   "execution_count": 9,
   "metadata": {},
   "outputs": [],
   "source": [
    "x = np.linspace(0,np.pi,1000)"
   ]
  },
  {
   "cell_type": "code",
   "execution_count": null,
   "metadata": {},
   "outputs": [],
   "source": []
  },
  {
   "cell_type": "code",
   "execution_count": null,
   "metadata": {},
   "outputs": [],
   "source": []
  },
  {
   "cell_type": "code",
   "execution_count": 10,
   "metadata": {
    "scrolled": true
   },
   "outputs": [
    {
     "data": {
      "text/plain": [
       "<matplotlib.legend.Legend at 0x7f435ec17e48>"
      ]
     },
     "execution_count": 10,
     "metadata": {},
     "output_type": "execute_result"
    },
    {
     "data": {
      "image/png": "[encoded data removed]",
      "text/plain": [
       "<Figure size 432x288 with 1 Axes>"
      ]
     },
     "metadata": {},
     "output_type": "display_data"
    }
   ],
   "source": [
    "fig, ax = plt.subplots()\n",
    "ax.plot(x,np.sin(x))\n",
    "results = np.empty(len(x))\n",
    "\n",
    "#for ii, xi in enumerate(x):\n",
    "    \n",
    "#    results[ii] = quad(np.sin,0,xi)[0]\n",
    "\n",
    "results = [quad(np.sin,0,xi)[0] for xi in x]\n",
    "ax.plot(x,results,'r.',label = 'numerical integration')\n",
    "ax.plot(x,1-np.cos(x), 'g--',label = 'theory')\n",
    "\n",
    "ax.legend(loc = 'upper left')"
   ]
  },
  {
   "cell_type": "code",
   "execution_count": 11,
   "metadata": {},
   "outputs": [
    {
     "data": {
      "text/plain": [
       "(0.6376422455233265, 7.079251024536842e-15)"
      ]
     },
     "execution_count": 11,
     "metadata": {},
     "output_type": "execute_result"
    }
   ],
   "source": [
    "quad(np.sin,0,1.2)"
   ]
  },
  {
   "cell_type": "code",
   "execution_count": null,
   "metadata": {},
   "outputs": [],
   "source": []
  }
 ],
 "metadata": {
  "kernelspec": {
   "display_name": "Python 3",
   "language": "python",
   "name": "python3"
  },
  "language_info": {
   "codemirror_mode": {
    "name": "ipython",
    "version": 3
   },
   "file_extension": ".py",
   "mimetype": "text/x-python",
   "name": "python",
   "nbconvert_exporter": "python",
   "pygments_lexer": "ipython3",
   "version": "3.6.5"
  }
 },
 "nbformat": 4,
 "nbformat_minor": 2
}
